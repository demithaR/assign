{
 "cells": [
  {
   "attachments": {},
   "cell_type": "markdown",
   "metadata": {},
   "source": [
    "# Assignment 1 #\n",
    "**BMDP Rathnayake**  \n",
    "**D/ENG/21/0046/ET**"
   ]
  },
  {
   "attachments": {},
   "cell_type": "markdown",
   "metadata": {},
   "source": [
    "**QUESTION 1**\n"
   ]
  },
  {
   "cell_type": "code",
   "execution_count": 5,
   "metadata": {},
   "outputs": [
    {
     "name": "stdout",
     "output_type": "stream",
     "text": [
      "101\n",
      "125\n",
      "30\n",
      "256\n"
     ]
    },
    {
     "data": {
      "image/png": "[encoded data removed]",
      "text/plain": [
       "<Figure size 640x480 with 1 Axes>"
      ]
     },
     "metadata": {},
     "output_type": "display_data"
    }
   ],
   "source": [
    "import cv2 as cv \n",
    "import numpy as np\n",
    "import matplotlib.pyplot as plt\n",
    "\n",
    "c = np.array([(100,100),(225,225)])\n",
    "t1=np.linspace(0,c[0,1], c[0,0]+1).astype('uint8')\n",
    "print(len(t1))\n",
    "#t2=np.linspace(c[0,1]+1,125,0).astype('uint8')\n",
    "#print(len(t2))\n",
    "t3=np.linspace(126,250,225-100).astype('uint8')\n",
    "print(len(t3))\n",
    "#t4=np.linspace(251,c[1,1],0).astype('uint8')\n",
    "#print(len(t4))\n",
    "t5=np.linspace(c[1,1]+1,255,255-c[1,1]).astype('uint8')\n",
    "print(len(t5))\n",
    "\n",
    "transform = np.concatenate((t1,t3),axis=0).astype('uint8')\n",
    "transform = np.concatenate((transform,t5), axis=0).astype('uint8')\n",
    "print(len(transform))\n",
    "\n",
    "fig,ax = plt.subplots()\n",
    "ax.plot(transform)\n",
    "ax.set_xlabel(r'Input,$f(\\mathbf{x})$')\n",
    "ax.set_label('output,$\\mathrm{T}[f(\\mathb{x})]$')\n",
    "ax.set_xlim(0,255)\n",
    "ax.set_ylim(0,255)\n",
    "ax.set_aspect('equal')\n",
    "plt.show()\n",
    "\n",
    "img=cv.imread('images/natasha.jpg',cv.IMREAD_GRAYSCALE)\n",
    "cv.namedWindow(\"image\",cv.WINDOW_AUTOSIZE)\n",
    "cv.imshow(\"image\",img)\n",
    "cv.waitKey()\n",
    "imagc =cv.LUT(img,transform)\n",
    "cv.imshow(\"image\",imagc)\n",
    "cv.waitKey()\n",
    "cv.destroyAllWindows()"
   ]
  },
  {
   "attachments": {},
   "cell_type": "markdown",
   "metadata": {},
   "source": [
    "**QUESTION 2**"
   ]
  },
  {
   "cell_type": "code",
   "execution_count": null,
   "metadata": {},
   "outputs": [],
   "source": []
  },
  {
   "attachments": {},
   "cell_type": "markdown",
   "metadata": {},
   "source": [
    "**QUESTION 3**"
   ]
  },
  {
   "cell_type": "code",
   "execution_count": null,
   "metadata": {},
   "outputs": [],
   "source": []
  }
 ],
 "metadata": {
  "kernelspec": {
   "display_name": "cv",
   "language": "python",
   "name": "python3"
  },
  "language_info": {
   "codemirror_mode": {
    "name": "ipython",
    "version": 3
   },
   "file_extension": ".py",
   "mimetype": "text/x-python",
   "name": "python",
   "nbconvert_exporter": "python",
   "pygments_lexer": "ipython3",
   "version": "3.11.1"
  },
  "orig_nbformat": 4,
  "vscode": {
   "interpreter": {
    "hash": "1df3a8821d9572c43dc1566313a4726de4fef46bb238b5a108cd916e42e22d30"
   }
  }
 },
 "nbformat": 4,
 "nbformat_minor": 2
}
